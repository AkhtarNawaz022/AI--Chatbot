{
  "nbformat": 4,
  "nbformat_minor": 0,
  "metadata": {
    "colab": {
      "provenance": [],
      "authorship_tag": "ABX9TyP+QSzLfcj3yvovYML9cmRb",
      "include_colab_link": true
    },
    "kernelspec": {
      "name": "python3",
      "display_name": "Python 3"
    },
    "language_info": {
      "name": "python"
    }
  },
  "cells": [
    {
      "cell_type": "markdown",
      "metadata": {
        "id": "view-in-github",
        "colab_type": "text"
      },
      "source": [
        "<a href=\"https://colab.research.google.com/github/AkhtarNawaz022/AI--Chatbot/blob/main/Font_Art.ipynb\" target=\"_parent\"><img src=\"https://colab.research.google.com/assets/colab-badge.svg\" alt=\"Open In Colab\"/></a>"
      ]
    },
    {
      "cell_type": "code",
      "execution_count": 4,
      "metadata": {
        "colab": {
          "base_uri": "https://localhost:8080/"
        },
        "id": "Y4FMUICM_jjt",
        "outputId": "818e1a5b-0cfd-4497-8473-a7582d192270"
      },
      "outputs": [
        {
          "output_type": "stream",
          "name": "stdout",
          "text": [
            "Requirement already satisfied: colorama in /usr/local/lib/python3.10/dist-packages (0.4.6)\n",
            "Collecting cartopy\n",
            "  Downloading Cartopy-0.24.1-cp310-cp310-manylinux_2_17_x86_64.manylinux2014_x86_64.whl.metadata (7.9 kB)\n",
            "Requirement already satisfied: numpy>=1.23 in /usr/local/lib/python3.10/dist-packages (from cartopy) (1.26.4)\n",
            "Requirement already satisfied: matplotlib>=3.6 in /usr/local/lib/python3.10/dist-packages (from cartopy) (3.8.0)\n",
            "Requirement already satisfied: shapely>=1.8 in /usr/local/lib/python3.10/dist-packages (from cartopy) (2.0.6)\n",
            "Requirement already satisfied: packaging>=21 in /usr/local/lib/python3.10/dist-packages (from cartopy) (24.2)\n",
            "Requirement already satisfied: pyshp>=2.3 in /usr/local/lib/python3.10/dist-packages (from cartopy) (2.3.1)\n",
            "Requirement already satisfied: pyproj>=3.3.1 in /usr/local/lib/python3.10/dist-packages (from cartopy) (3.7.0)\n",
            "Requirement already satisfied: contourpy>=1.0.1 in /usr/local/lib/python3.10/dist-packages (from matplotlib>=3.6->cartopy) (1.3.1)\n",
            "Requirement already satisfied: cycler>=0.10 in /usr/local/lib/python3.10/dist-packages (from matplotlib>=3.6->cartopy) (0.12.1)\n",
            "Requirement already satisfied: fonttools>=4.22.0 in /usr/local/lib/python3.10/dist-packages (from matplotlib>=3.6->cartopy) (4.55.3)\n",
            "Requirement already satisfied: kiwisolver>=1.0.1 in /usr/local/lib/python3.10/dist-packages (from matplotlib>=3.6->cartopy) (1.4.7)\n",
            "Requirement already satisfied: pillow>=6.2.0 in /usr/local/lib/python3.10/dist-packages (from matplotlib>=3.6->cartopy) (11.0.0)\n",
            "Requirement already satisfied: pyparsing>=2.3.1 in /usr/local/lib/python3.10/dist-packages (from matplotlib>=3.6->cartopy) (3.2.0)\n",
            "Requirement already satisfied: python-dateutil>=2.7 in /usr/local/lib/python3.10/dist-packages (from matplotlib>=3.6->cartopy) (2.8.2)\n",
            "Requirement already satisfied: certifi in /usr/local/lib/python3.10/dist-packages (from pyproj>=3.3.1->cartopy) (2024.12.14)\n",
            "Requirement already satisfied: six>=1.5 in /usr/local/lib/python3.10/dist-packages (from python-dateutil>=2.7->matplotlib>=3.6->cartopy) (1.17.0)\n",
            "Downloading Cartopy-0.24.1-cp310-cp310-manylinux_2_17_x86_64.manylinux2014_x86_64.whl (11.7 MB)\n",
            "\u001b[2K   \u001b[90m━━━━━━━━━━━━━━━━━━━━━━━━━━━━━━━━━━━━━━━━\u001b[0m \u001b[32m11.7/11.7 MB\u001b[0m \u001b[31m87.2 MB/s\u001b[0m eta \u001b[36m0:00:00\u001b[0m\n",
            "\u001b[?25hInstalling collected packages: cartopy\n",
            "Successfully installed cartopy-0.24.1\n",
            "Collecting pyfiglet\n",
            "  Downloading pyfiglet-1.0.2-py3-none-any.whl.metadata (7.1 kB)\n",
            "Downloading pyfiglet-1.0.2-py3-none-any.whl (1.1 MB)\n",
            "\u001b[2K   \u001b[90m━━━━━━━━━━━━━━━━━━━━━━━━━━━━━━━━━━━━━━━━\u001b[0m \u001b[32m1.1/1.1 MB\u001b[0m \u001b[31m12.2 MB/s\u001b[0m eta \u001b[36m0:00:00\u001b[0m\n",
            "\u001b[?25hInstalling collected packages: pyfiglet\n",
            "Successfully installed pyfiglet-1.0.2\n"
          ]
        }
      ],
      "source": [
        "!pip install colorama\n",
        "!pip install cartopy\n",
        "!pip install pyfiglet\n"
      ]
    },
    {
      "cell_type": "code",
      "source": [
        "from colorama import Fore\n",
        "import cartopy\n",
        "import pyfiglet\n",
        "font = pyfiglet.figlet_format('Happy Independence Day')\n",
        "print(Fore.RED+font)"
      ],
      "metadata": {
        "colab": {
          "base_uri": "https://localhost:8080/"
        },
        "id": "XQ_RF5yF_yHT",
        "outputId": "54665651-7697-4fcb-b7e8-e9df40a790ed"
      },
      "execution_count": 7,
      "outputs": [
        {
          "output_type": "stream",
          "name": "stdout",
          "text": [
            "\u001b[31m _   _                         \n",
            "| | | | __ _ _ __  _ __  _   _ \n",
            "| |_| |/ _` | '_ \\| '_ \\| | | |\n",
            "|  _  | (_| | |_) | |_) | |_| |\n",
            "|_| |_|\\__,_| .__/| .__/ \\__, |\n",
            "            |_|   |_|    |___/ \n",
            " ___           _                           _                     \n",
            "|_ _|_ __   __| | ___ _ __   ___ _ __   __| | ___ _ __   ___ ___ \n",
            " | || '_ \\ / _` |/ _ \\ '_ \\ / _ \\ '_ \\ / _` |/ _ \\ '_ \\ / __/ _ \\\n",
            " | || | | | (_| |  __/ |_) |  __/ | | | (_| |  __/ | | | (_|  __/\n",
            "|___|_| |_|\\__,_|\\___| .__/ \\___|_| |_|\\__,_|\\___|_| |_|\\___\\___|\n",
            "                     |_|                                         \n",
            " ____              \n",
            "|  _ \\  __ _ _   _ \n",
            "| | | |/ _` | | | |\n",
            "| |_| | (_| | |_| |\n",
            "|____/ \\__,_|\\__, |\n",
            "             |___/ \n",
            "\n"
          ]
        }
      ]
    },
    {
      "cell_type": "code",
      "source": [
        "import pyfiglet\n",
        "\n",
        "ascii_art = pyfiglet.figlet_format(\"Happy Independence Day 14 August\")\n",
        "print(ascii_art)"
      ],
      "metadata": {
        "colab": {
          "base_uri": "https://localhost:8080/"
        },
        "id": "TvOXgc-iAlpI",
        "outputId": "687d92de-91fa-418c-ef47-0d6dda4bb51c"
      },
      "execution_count": 6,
      "outputs": [
        {
          "output_type": "stream",
          "name": "stdout",
          "text": [
            " _   _                         \n",
            "| | | | __ _ _ __  _ __  _   _ \n",
            "| |_| |/ _` | '_ \\| '_ \\| | | |\n",
            "|  _  | (_| | |_) | |_) | |_| |\n",
            "|_| |_|\\__,_| .__/| .__/ \\__, |\n",
            "            |_|   |_|    |___/ \n",
            " ___           _                           _                     \n",
            "|_ _|_ __   __| | ___ _ __   ___ _ __   __| | ___ _ __   ___ ___ \n",
            " | || '_ \\ / _` |/ _ \\ '_ \\ / _ \\ '_ \\ / _` |/ _ \\ '_ \\ / __/ _ \\\n",
            " | || | | | (_| |  __/ |_) |  __/ | | | (_| |  __/ | | | (_|  __/\n",
            "|___|_| |_|\\__,_|\\___| .__/ \\___|_| |_|\\__,_|\\___|_| |_|\\___\\___|\n",
            "                     |_|                                         \n",
            " ____                _ _  _        _                         _   \n",
            "|  _ \\  __ _ _   _  / | || |      / \\  _   _  __ _ _   _ ___| |_ \n",
            "| | | |/ _` | | | | | | || |_    / _ \\| | | |/ _` | | | / __| __|\n",
            "| |_| | (_| | |_| | | |__   _|  / ___ \\ |_| | (_| | |_| \\__ \\ |_ \n",
            "|____/ \\__,_|\\__, | |_|  |_|   /_/   \\_\\__,_|\\__, |\\__,_|___/\\__|\n",
            "             |___/                           |___/               \n",
            "\n"
          ]
        }
      ]
    },
    {
      "cell_type": "code",
      "source": [],
      "metadata": {
        "id": "Zw6YGlZ_CNx5"
      },
      "execution_count": null,
      "outputs": []
    }
  ]
}